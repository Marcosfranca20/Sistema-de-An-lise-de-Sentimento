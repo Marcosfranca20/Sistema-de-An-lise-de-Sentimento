{
  "nbformat": 4,
  "nbformat_minor": 0,
  "metadata": {
    "colab": {
      "provenance": [],
      "toc_visible": true
    },
    "kernelspec": {
      "name": "python3",
      "display_name": "Python 3"
    },
    "language_info": {
      "name": "python"
    }
  },
  "cells": [
    {
      "cell_type": "code",
      "execution_count": null,
      "metadata": {
        "id": "rC_iaAMYM3ff",
        "outputId": "9c9211b1-5cec-4a46-e166-0625c05ab201",
        "colab": {
          "base_uri": "https://localhost:8080/"
        }
      },
      "outputs": [
        {
          "output_type": "stream",
          "name": "stdout",
          "text": [
            "Looking in indexes: https://pypi.org/simple, https://us-python.pkg.dev/colab-wheels/public/simple/\n"
          ]
        }
      ],
      "source": [
        "import pandas as pd\n",
        "import numpy as np\n",
        "import matplotlib.pyplot as plt\n",
        "from collections import Counter\n",
        "!pip install awscli\n",
        "from IPython.display import clear_output\n",
        "clear_output()\n",
        "\n",
        "!aws configure\n",
        "\n",
        "# Ler o arquivo CSV\n",
        "df = pd.read_csv(\"caminho.csv\")\n",
        "\n",
        "# Obter a quantidade de linhas e colunas\n",
        "num_rows, num_columns = df.shape\n",
        "\n",
        "# Exibir a quantidade de dados\n",
        "print(f\"O arquivo CSV contém {num_rows} linhas e {num_columns} colunas.\")\n",
        "\n",
        "!aws comprehend detect-sentiment --region us-west-2 --language-code pt --text \"caminho.csv\"\n",
        "\n",
        "data = !aws comprehend detect-sentiment --region us-west-2 --language-code pt --text \"/content/NoThemeTweets.csv\"\n",
        "# Executa um comando para obter dados do AWS Comprehend\n",
        "\n",
        "# Define os rótulos das colunas\n",
        "column_labels = ['Vazio', 'Neutro', 'Positivo', 'Negativo', 'Misturado']\n",
        "\n",
        "# Extrai as linhas de dados\n",
        "rows = [row.split('\\t') for row in data]\n",
        "# Divide cada linha por tabulação ('\\t') para obter os valores separados\n",
        "\n",
        "# Verifica e ajusta o número de colunas\n",
        "if len(rows[0]) != len(column_labels):\n",
        "    rows.insert(0, [''] * len(column_labels))\n",
        "# Insere uma linha vazia no início, se o número de colunas for diferente do esperado\n",
        "\n",
        "# Cria o DataFrame\n",
        "df = pd.DataFrame(rows, columns=column_labels)\n",
        "# Cria um DataFrame com as linhas e rótulos de coluna especificados\n",
        "\n",
        "# Substitui strings vazias por NaN (Not a Number)\n",
        "df = df.replace('', pd.NA)\n",
        "\n",
        "# Converte os valores para numéricos, tratando valores não numéricos e NaN\n",
        "df = df.apply(pd.to_numeric, errors='coerce')\n",
        "\n",
        "# Arredonda os valores para o número desejado de casas decimais\n",
        "df = df.round(6)\n",
        "\n",
        "# Plota o gráfico de barras se houver valores numéricos\n",
        "if not df.empty and df.select_dtypes(include=[np.number]).shape[1] > 0:\n",
        "    df.plot(kind='bar', figsize=(8, 6))\n",
        "    plt.xlabel('Sentimento')\n",
        "    plt.ylabel('Pontuação')\n",
        "    plt.title('Análise de Sentimento')\n",
        "    plt.legend(loc='best')\n",
        "    plt.show()\n",
        "else:\n",
        "    print(\"No numeric data to plot.\")\n",
        "# Verifica se existem valores numéricos e plota o gráfico de barras, ou exibe uma mensagem se não houver valores numéricos\n",
        "\n",
        "\n",
        "# Lê o arquivo CSV e cria um DataFrame\n",
        "df_polarity = pd.read_csv(\"caminho.csv\", error_bad_lines=False)\n",
        "\n",
        "# Exibe as primeiras 10 linhas do DataFrame\n",
        "df_polarity.head(10)\n",
        "\n",
        "# Conta a ocorrência de cada valor na coluna \"sentiment\"\n",
        "from collections import Counter\n",
        "sentiment_counts = Counter(df_polarity[\"sentiment\"])\n",
        "\n",
        "# Cria um gráfico de barras para visualizar a contagem dos sentimentos\n",
        "import matplotlib.pyplot as plt\n",
        "fig, ax = plt.subplots()\n",
        "ax.bar(sentiment_counts.keys(), list(sentiment_counts.values()))\n",
        "ax.set_xticklabels(sentiment_counts.keys(), rotation=45)\n",
        "ax.set_title(\"Sentiment Analysis\")\n",
        "plt.show()\n"
      ]
    },
    {
      "cell_type": "code",
      "source": [],
      "metadata": {
        "id": "L9HRaiBGM5kj"
      },
      "execution_count": null,
      "outputs": []
    }
  ]
}