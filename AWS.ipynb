import pandas as pd
import numpy as np
import matplotlib.pyplot as plt
from collections import Counter
!pip install awscli
from IPython.display import clear_output
clear_output()

!aws configure

# Ler o arquivo CSV
df = pd.read_csv("caminho.csv")

# Obter a quantidade de linhas e colunas
num_rows, num_columns = df.shape

# Exibir a quantidade de dados
print(f"O arquivo CSV contém {num_rows} linhas e {num_columns} colunas.")

!aws comprehend detect-sentiment --region us-west-2 --language-code pt --text "caminho.csv"

data = !aws comprehend detect-sentiment --region us-west-2 --language-code pt --text "/content/NoThemeTweets.csv"
# Executa um comando para obter dados do AWS Comprehend

# Define os rótulos das colunas
column_labels = ['Vazio', 'Neutro', 'Positivo', 'Negativo', 'Misturado']

# Extrai as linhas de dados
rows = [row.split('\t') for row in data]
# Divide cada linha por tabulação ('\t') para obter os valores separados

# Verifica e ajusta o número de colunas
if len(rows[0]) != len(column_labels):
    rows.insert(0, [''] * len(column_labels))
# Insere uma linha vazia no início, se o número de colunas for diferente do esperado

# Cria o DataFrame
df = pd.DataFrame(rows, columns=column_labels)
# Cria um DataFrame com as linhas e rótulos de coluna especificados

# Substitui strings vazias por NaN (Not a Number)
df = df.replace('', pd.NA)

# Converte os valores para numéricos, tratando valores não numéricos e NaN
df = df.apply(pd.to_numeric, errors='coerce')

# Arredonda os valores para o número desejado de casas decimais
df = df.round(6)

# Plota o gráfico de barras se houver valores numéricos
if not df.empty and df.select_dtypes(include=[np.number]).shape[1] > 0:
    df.plot(kind='bar', figsize=(8, 6))
    plt.xlabel('Sentimento')
    plt.ylabel('Pontuação')
    plt.title('Análise de Sentimento')
    plt.legend(loc='best')
    plt.show()
else:
    print("No numeric data to plot.")
# Verifica se existem valores numéricos e plota o gráfico de barras, ou exibe uma mensagem se não houver valores numéricos


# Lê o arquivo CSV e cria um DataFrame
df_polarity = pd.read_csv("caminho.csv", error_bad_lines=False)

# Exibe as primeiras 10 linhas do DataFrame
df_polarity.head(10)

# Conta a ocorrência de cada valor na coluna "sentiment"
from collections import Counter
sentiment_counts = Counter(df_polarity["sentiment"])

# Cria um gráfico de barras para visualizar a contagem dos sentimentos
import matplotlib.pyplot as plt
fig, ax = plt.subplots()
ax.bar(sentiment_counts.keys(), list(sentiment_counts.values()))
ax.set_xticklabels(sentiment_counts.keys(), rotation=45)
ax.set_title("Sentiment Analysis")
plt.show()

